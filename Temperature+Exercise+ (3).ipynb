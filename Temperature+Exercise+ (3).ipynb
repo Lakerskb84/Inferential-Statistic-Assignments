{
 "cells": [
  {
   "cell_type": "markdown",
   "metadata": {},
   "source": [
    "# What is the True Normal Human Body Temperature? \n",
    "\n",
    "#### Background\n",
    "\n",
    "The mean normal body temperature was held to be 37$^{\\circ}$C or 98.6$^{\\circ}$F for more than 120 years since it was first conceptualized and reported by Carl Wunderlich in a famous 1868 book. But, is this value statistically correct?"
   ]
  },
  {
   "cell_type": "markdown",
   "metadata": {},
   "source": [
    "<h3>Exercises</h3>\n",
    "\n",
    "<p>In this exercise, you will analyze a dataset of human body temperatures and employ the concepts of hypothesis testing, confidence intervals, and statistical significance.</p>\n",
    "\n",
    "<p>Answer the following questions <b>in this notebook below and submit to your Github account</b>.</p> \n",
    "\n",
    "<ol>\n",
    "<li>  Is the distribution of body temperatures normal? \n",
    "    <ul>\n",
    "    <li> Although this is not a requirement for CLT to hold (read CLT carefully), it gives us some peace of mind that the population may also be normally distributed if we assume that this sample is representative of the population.\n",
    "    </ul>\n",
    "<li>  Is the sample size large? Are the observations independent?\n",
    "    <ul>\n",
    "    <li> Remember that this is a condition for the CLT, and hence the statistical tests we are using, to apply.\n",
    "    </ul>\n",
    "<li>  Is the true population mean really 98.6 degrees F?\n",
    "    <ul>\n",
    "    <li> Would you use a one-sample or two-sample test? Why?\n",
    "    <li> In this situation, is it appropriate to use the $t$ or $z$ statistic? \n",
    "    <li> Now try using the other test. How is the result be different? Why?\n",
    "    </ul>\n",
    "<li>  Draw a small sample of size 10 from the data and repeat both tests. \n",
    "    <ul>\n",
    "    <li> Which one is the correct one to use? \n",
    "    <li> What do you notice? What does this tell you about the difference in application of the $t$ and $z$ statistic?\n",
    "    </ul>\n",
    "<li>  At what temperature should we consider someone's temperature to be \"abnormal\"?\n",
    "    <ul>\n",
    "    <li> Start by computing the margin of error and confidence interval.\n",
    "    </ul>\n",
    "<li>  Is there a significant difference between males and females in normal temperature?\n",
    "    <ul>\n",
    "    <li> What test did you use and why?\n",
    "    <li> Write a story with your conclusion in the context of the original problem.\n",
    "    </ul>\n",
    "</ol>\n",
    "\n",
    "You can include written notes in notebook cells using Markdown: \n",
    "   - In the control panel at the top, choose Cell > Cell Type > Markdown\n",
    "   - Markdown syntax: http://nestacms.com/docs/creating-content/markdown-cheat-sheet\n",
    "\n",
    "#### Resources\n",
    "\n",
    "+ Information and data sources: http://www.amstat.org/publications/jse/datasets/normtemp.txt, http://www.amstat.org/publications/jse/jse_data_archive.htm\n",
    "+ Markdown syntax: http://nestacms.com/docs/creating-content/markdown-cheat-sheet\n",
    "\n",
    "****"
   ]
  },
  {
   "cell_type": "code",
   "execution_count": 552,
   "metadata": {},
   "outputs": [],
   "source": [
    "import numpy as np\n",
    "from scipy import stats\n",
    "import pandas as pd\n",
    "import matplotlib.pyplot as plt"
   ]
  },
  {
   "cell_type": "code",
   "execution_count": 553,
   "metadata": {},
   "outputs": [
    {
     "name": "stdout",
     "output_type": "stream",
     "text": [
      "     temperature gender  heart_rate\n",
      "0           99.3      F        68.0\n",
      "1           98.4      F        81.0\n",
      "2           97.8      M        73.0\n",
      "3           99.2      F        66.0\n",
      "4           98.0      F        73.0\n",
      "5           99.2      M        83.0\n",
      "6           98.0      M        71.0\n",
      "7           98.8      M        78.0\n",
      "8           98.4      F        84.0\n",
      "9           98.6      F        86.0\n",
      "10          98.8      F        89.0\n",
      "11          96.7      F        62.0\n",
      "12          98.2      M        72.0\n",
      "13          98.7      F        79.0\n",
      "14          97.8      F        77.0\n",
      "15          98.8      F        83.0\n",
      "16          98.3      F        79.0\n",
      "17          98.2      M        64.0\n",
      "18          97.2      F        68.0\n",
      "19          99.4      M        70.0\n",
      "20          98.3      F        78.0\n",
      "21          98.2      M        71.0\n",
      "22          98.6      M        70.0\n",
      "23          98.4      M        68.0\n",
      "24          97.8      M        65.0\n",
      "25          98.0      F        87.0\n",
      "26          97.8      F        62.0\n",
      "27          98.2      F        69.0\n",
      "28          98.4      F        73.0\n",
      "29          98.1      M        67.0\n",
      "..           ...    ...         ...\n",
      "100         99.0      M        81.0\n",
      "101         98.5      M        68.0\n",
      "102         98.0      F        78.0\n",
      "103         99.4      F        77.0\n",
      "104         97.6      M        69.0\n",
      "105         96.7      M        71.0\n",
      "106         97.0      M        80.0\n",
      "107         98.6      M        66.0\n",
      "108         98.7      F        72.0\n",
      "109         97.3      M        69.0\n",
      "110         98.8      F        69.0\n",
      "111         98.0      F        89.0\n",
      "112         98.2      F        64.0\n",
      "113         99.1      F        74.0\n",
      "114         99.0      M        79.0\n",
      "115         98.0      M        64.0\n",
      "116        100.8      F        77.0\n",
      "117         97.8      F        71.0\n",
      "118         98.7      M        78.0\n",
      "119         98.4      F        74.0\n",
      "120         97.7      F        84.0\n",
      "121         97.9      F        68.0\n",
      "122         99.0      F        81.0\n",
      "123         97.2      F        66.0\n",
      "124         97.5      M        75.0\n",
      "125         96.3      M        70.0\n",
      "126         97.7      M        77.0\n",
      "127         98.2      F        73.0\n",
      "128         97.9      M        72.0\n",
      "129         98.7      F        59.0\n",
      "\n",
      "[130 rows x 3 columns]\n"
     ]
    }
   ],
   "source": [
    "# Importing data as a Pandas DataFrame called temps.\n",
    "temps= pd.read_csv('human_body_temperature.csv')\n",
    "print(temps)"
   ]
  },
  {
   "cell_type": "markdown",
   "metadata": {},
   "source": [
    "Loading data into a pandas dataframe, temps"
   ]
  },
  {
   "cell_type": "code",
   "execution_count": 554,
   "metadata": {},
   "outputs": [
    {
     "name": "stdout",
     "output_type": "stream",
     "text": [
      "     temperature gender\n",
      "0           99.3      F\n",
      "1           98.4      F\n",
      "2           97.8      M\n",
      "3           99.2      F\n",
      "4           98.0      F\n",
      "5           99.2      M\n",
      "6           98.0      M\n",
      "7           98.8      M\n",
      "8           98.4      F\n",
      "9           98.6      F\n",
      "10          98.8      F\n",
      "11          96.7      F\n",
      "12          98.2      M\n",
      "13          98.7      F\n",
      "14          97.8      F\n",
      "15          98.8      F\n",
      "16          98.3      F\n",
      "17          98.2      M\n",
      "18          97.2      F\n",
      "19          99.4      M\n",
      "20          98.3      F\n",
      "21          98.2      M\n",
      "22          98.6      M\n",
      "23          98.4      M\n",
      "24          97.8      M\n",
      "25          98.0      F\n",
      "26          97.8      F\n",
      "27          98.2      F\n",
      "28          98.4      F\n",
      "29          98.1      M\n",
      "..           ...    ...\n",
      "100         99.0      M\n",
      "101         98.5      M\n",
      "102         98.0      F\n",
      "103         99.4      F\n",
      "104         97.6      M\n",
      "105         96.7      M\n",
      "106         97.0      M\n",
      "107         98.6      M\n",
      "108         98.7      F\n",
      "109         97.3      M\n",
      "110         98.8      F\n",
      "111         98.0      F\n",
      "112         98.2      F\n",
      "113         99.1      F\n",
      "114         99.0      M\n",
      "115         98.0      M\n",
      "116        100.8      F\n",
      "117         97.8      F\n",
      "118         98.7      M\n",
      "119         98.4      F\n",
      "120         97.7      F\n",
      "121         97.9      F\n",
      "122         99.0      F\n",
      "123         97.2      F\n",
      "124         97.5      M\n",
      "125         96.3      M\n",
      "126         97.7      M\n",
      "127         98.2      F\n",
      "128         97.9      M\n",
      "129         98.7      F\n",
      "\n",
      "[130 rows x 2 columns]\n"
     ]
    }
   ],
   "source": [
    "#Using the columns temperature and gender to get the DataFrame into desired data and  called it df2.\n",
    "df2= temps[['temperature','gender']]\n",
    "print(df2)\n"
   ]
  },
  {
   "cell_type": "code",
   "execution_count": 555,
   "metadata": {
    "collapsed": true
   },
   "outputs": [],
   "source": [
    "#Wrote a function, ECDF to verify the distribution of the data.\n",
    "def ecdf(data):\n",
    "    #calculating the ecdf \n",
    "    n=len(data)\n",
    "    x=np.sort(data)\n",
    "    y= np.arange(1, n+1)/n\n",
    "    \n",
    "    return x, y"
   ]
  },
  {
   "cell_type": "code",
   "execution_count": 556,
   "metadata": {},
   "outputs": [
    {
     "data": {
      "image/png": "[encoded data removed]",
      "text/plain": [
       "<matplotlib.figure.Figure at 0x1fa0f127470>"
      ]
     },
     "metadata": {},
     "output_type": "display_data"
    }
   ],
   "source": [
    "#plotted the data using ECDF function\n",
    "x,y=ecdf(df2['temperature'])\n",
    "plt.plot(x,y, marker='.', linestyle='none')\n",
    "plt.margins(0.02)\n",
    "plt.xlabel('Temperature (F)')\n",
    "plt.ylabel('ECDF')\n",
    "plt.show()"
   ]
  },
  {
   "cell_type": "code",
   "execution_count": 557,
   "metadata": {},
   "outputs": [
    {
     "name": "stdout",
     "output_type": "stream",
     "text": [
      "98.24923076923078\n",
      "0.7303577789050377\n"
     ]
    }
   ],
   "source": [
    "# Calculating the mean and the std of dataframe df2\n",
    "mu= df2.temperature.mean()\n",
    "print(ob_mean)\n",
    "su= df2.temperature.std()\n",
    "print(ob_std)"
   ]
  },
  {
   "cell_type": "code",
   "execution_count": 558,
   "metadata": {},
   "outputs": [
    {
     "name": "stdout",
     "output_type": "stream",
     "text": [
      "-5.45482329236\n"
     ]
    }
   ],
   "source": [
    "# Calculated the z score from df2\n",
    "zscore=(mu-98.6)/(su/np.sqrt(130))\n",
    "print(zscore)"
   ]
  },
  {
   "cell_type": "code",
   "execution_count": 559,
   "metadata": {},
   "outputs": [
    {
     "data": {
      "text/plain": [
       "Ttest_1sampResult(statistic=-5.4548232923645195, pvalue=2.4106320415561276e-07)"
      ]
     },
     "execution_count": 559,
     "metadata": {},
     "output_type": "execute_result"
    }
   ],
   "source": [
    "#Calculated the ttest and p value for the data\n",
    "stats.ttest_1samp(df2['temperature'], 98.6)                   "
   ]
  },
  {
   "cell_type": "code",
   "execution_count": 560,
   "metadata": {},
   "outputs": [
    {
     "name": "stdout",
     "output_type": "stream",
     "text": [
      "[ 98.98250627  98.54795941  99.04288573  97.64381979  98.72818696\n",
      "  98.91549194  97.49022527  98.94942923  99.42618406  99.42216278]\n"
     ]
    }
   ],
   "source": [
    "# Took a random sample of 10 data points in the df2 called it rand\n",
    "rand= np.random.normal(mu, su, size=10)\n",
    "print(rand)"
   ]
  },
  {
   "cell_type": "code",
   "execution_count": 561,
   "metadata": {},
   "outputs": [
    {
     "name": "stdout",
     "output_type": "stream",
     "text": [
      "98.7148851456 0.628940475117\n"
     ]
    }
   ],
   "source": [
    "#Calculated mean and std for rand\n",
    "x=np.mean(rand)\n",
    "y=np.std(rand)\n",
    "print(x , y)"
   ]
  },
  {
   "cell_type": "code",
   "execution_count": 562,
   "metadata": {},
   "outputs": [
    {
     "name": "stdout",
     "output_type": "stream",
     "text": [
      "0.577636110011\n"
     ]
    }
   ],
   "source": [
    "#calculated the z score for rand\n",
    "zscore2=(x-98.6)/(y/np.sqrt(10))\n",
    "print (zscore2)"
   ]
  },
  {
   "cell_type": "code",
   "execution_count": 563,
   "metadata": {},
   "outputs": [
    {
     "data": {
      "text/plain": [
       "Ttest_1sampResult(statistic=0.54799372991842743, pvalue=0.59702341908036949)"
      ]
     },
     "execution_count": 563,
     "metadata": {},
     "output_type": "execute_result"
    }
   ],
   "source": [
    "#Calculated t score for rand\n",
    "stats.ttest_1samp(rand, 98.6)"
   ]
  },
  {
   "cell_type": "code",
   "execution_count": 564,
   "metadata": {},
   "outputs": [
    {
     "data": {
      "text/plain": [
       "0.064304416837891024"
      ]
     },
     "execution_count": 564,
     "metadata": {},
     "output_type": "execute_result"
    }
   ],
   "source": [
    "stats.sem(df2['temperature'])"
   ]
  },
  {
   "cell_type": "code",
   "execution_count": 565,
   "metadata": {},
   "outputs": [
    {
     "name": "stdout",
     "output_type": "stream",
     "text": [
      "0.126036657002\n"
     ]
    }
   ],
   "source": [
    "error= su/np.sqrt(130)\n",
    "inter=1.96*error\n",
    "print(inter)"
   ]
  },
  {
   "cell_type": "code",
   "execution_count": 566,
   "metadata": {},
   "outputs": [
    {
     "name": "stdout",
     "output_type": "stream",
     "text": [
      "98.1231941122 98.3752674262\n"
     ]
    }
   ],
   "source": [
    "min= mu-inter\n",
    "max= mu+inter\n",
    "print(min, max)"
   ]
  },
  {
   "cell_type": "code",
   "execution_count": 567,
   "metadata": {},
   "outputs": [
    {
     "name": "stdout",
     "output_type": "stream",
     "text": [
      "     temperature gender\n",
      "2           97.8      M\n",
      "5           99.2      M\n",
      "6           98.0      M\n",
      "7           98.8      M\n",
      "12          98.2      M\n",
      "17          98.2      M\n",
      "19          99.4      M\n",
      "21          98.2      M\n",
      "22          98.6      M\n",
      "23          98.4      M\n",
      "24          97.8      M\n",
      "29          98.1      M\n",
      "30          98.3      M\n",
      "32          98.5      M\n",
      "33          98.6      M\n",
      "34          99.3      M\n",
      "35          99.5      M\n",
      "36          99.1      M\n",
      "37          98.3      M\n",
      "41          98.4      M\n",
      "42          96.9      M\n",
      "43          97.2      M\n",
      "46          97.4      M\n",
      "47          97.4      M\n",
      "48          97.9      M\n",
      "49          97.1      M\n",
      "53          98.6      M\n",
      "57          98.2      M\n",
      "59          97.6      M\n",
      "61          98.4      M\n",
      "..           ...    ...\n",
      "73          98.8      M\n",
      "74          99.0      M\n",
      "75          98.8      M\n",
      "77          98.4      M\n",
      "78          97.4      M\n",
      "79          97.6      M\n",
      "81          98.0      M\n",
      "82          97.5      M\n",
      "85          97.1      M\n",
      "87          98.0      M\n",
      "88          98.7      M\n",
      "89          98.1      M\n",
      "90          97.8      M\n",
      "93          97.1      M\n",
      "94          97.8      M\n",
      "99          98.0      M\n",
      "100         99.0      M\n",
      "101         98.5      M\n",
      "104         97.6      M\n",
      "105         96.7      M\n",
      "106         97.0      M\n",
      "107         98.6      M\n",
      "109         97.3      M\n",
      "114         99.0      M\n",
      "115         98.0      M\n",
      "118         98.7      M\n",
      "124         97.5      M\n",
      "125         96.3      M\n",
      "126         97.7      M\n",
      "128         97.9      M\n",
      "\n",
      "[65 rows x 2 columns]      temperature gender\n",
      "0           99.3      F\n",
      "1           98.4      F\n",
      "3           99.2      F\n",
      "4           98.0      F\n",
      "8           98.4      F\n",
      "9           98.6      F\n",
      "10          98.8      F\n",
      "11          96.7      F\n",
      "13          98.7      F\n",
      "14          97.8      F\n",
      "15          98.8      F\n",
      "16          98.3      F\n",
      "18          97.2      F\n",
      "20          98.3      F\n",
      "25          98.0      F\n",
      "26          97.8      F\n",
      "27          98.2      F\n",
      "28          98.4      F\n",
      "31          97.6      F\n",
      "38          97.9      F\n",
      "39          96.4      F\n",
      "40          98.4      F\n",
      "44          99.0      F\n",
      "45          97.9      F\n",
      "50          98.9      F\n",
      "51          98.3      F\n",
      "52          98.5      F\n",
      "54          98.2      F\n",
      "55          98.6      F\n",
      "56          98.8      F\n",
      "..           ...    ...\n",
      "68          98.7      F\n",
      "70          98.1      F\n",
      "71          97.7      F\n",
      "76          98.0      F\n",
      "80          98.8      F\n",
      "83          99.2      F\n",
      "84          98.6      F\n",
      "86          98.6      F\n",
      "91         100.0      F\n",
      "92          98.8      F\n",
      "95          96.8      F\n",
      "96          99.9      F\n",
      "97          98.7      F\n",
      "98          98.8      F\n",
      "102         98.0      F\n",
      "103         99.4      F\n",
      "108         98.7      F\n",
      "110         98.8      F\n",
      "111         98.0      F\n",
      "112         98.2      F\n",
      "113         99.1      F\n",
      "116        100.8      F\n",
      "117         97.8      F\n",
      "119         98.4      F\n",
      "120         97.7      F\n",
      "121         97.9      F\n",
      "122         99.0      F\n",
      "123         97.2      F\n",
      "127         98.2      F\n",
      "129         98.7      F\n",
      "\n",
      "[65 rows x 2 columns]\n"
     ]
    }
   ],
   "source": [
    "male= df2[df2.gender =='M']\n",
    "female=df2[df2.gender =='F']\n",
    "print(male, female)"
   ]
  },
  {
   "cell_type": "code",
   "execution_count": 568,
   "metadata": {},
   "outputs": [
    {
     "name": "stdout",
     "output_type": "stream",
     "text": [
      "98.1046153846154\n"
     ]
    }
   ],
   "source": [
    "mum= np.mean(male['temperature'])\n",
    "print(mum)"
   ]
  },
  {
   "cell_type": "code",
   "execution_count": 569,
   "metadata": {},
   "outputs": [
    {
     "name": "stdout",
     "output_type": "stream",
     "text": [
      "98.39384615384613\n"
     ]
    }
   ],
   "source": [
    "fum=np.mean(female['temperature'])\n",
    "print(fum)"
   ]
  },
  {
   "cell_type": "code",
   "execution_count": 570,
   "metadata": {},
   "outputs": [
    {
     "name": "stdout",
     "output_type": "stream",
     "text": [
      "-0.289230769230727\n"
     ]
    }
   ],
   "source": [
    "#Difference in the means: males and females\n",
    "diff= mum-fum\n",
    "print(diff)the"
   ]
  },
  {
   "cell_type": "code",
   "execution_count": 571,
   "metadata": {},
   "outputs": [
    {
     "name": "stdout",
     "output_type": "stream",
     "text": [
      "-0.248045742823\n"
     ]
    }
   ],
   "source": [
    "# Variance of both groups applied to the difference in means to calculate the standard deviation\n",
    "v=(male['temperature'].var()/len(male)) + (female['temperature'].var()/len(female))\n",
    "d= np.sqrt(v)\n",
    "con= -1.96*d\n",
    "print(con)"
   ]
  },
  {
   "cell_type": "code",
   "execution_count": null,
   "metadata": {
    "collapsed": true
   },
   "outputs": [],
   "source": [
    "1. The distribution of the data seems to be normal after calculating the ECDF and the shape of the cure looking like a normal distribution curve.\n",
    "2. The sample size is large and the observations are independent because each data point is a seperate individual.\n",
    "3. A z score would be the best test to use because the data is larger than 30. The z score turns out to be -5.45 which is the same value for the t test. The ideal type of test would be a one-sample test because we have a population mean of 98.6 a calculated experimental mean of 98.3. The data would need to be presented using two groups in order to run a two-sample test.\n",
    "4. The sample size of 10 is ideal for a t test which is used for sample sizes under 30. the t test had a value of 0.55 and a z score of 0.58. This differs from our other scores which were the same. \n",
    "5. Abnormal temperatures would be any that are under 98.12.\n",
    "6. There seems to be a statistically significant difference between the male and female groups. After apllying the variance and then calculating the standard deviation we can calcualte the 95% confidence level of the difference in means of -0.248. Our measured value was -0.290 meaning the chances of getting a diffeence in means under our 5% mark meaning it is statistically significant.\n",
    "\n",
    "     For over a hundred years medical professions believed that individuals would have a normal body temperature of 98.6 degrees F. The data we decided to work with was of 130 individuals with an equal number of males and females. We wanted to test that there was no statistical difference between the assumed value of 98.6 degrees F and our calculated value of 98.3 degrees F. After examining the data and using statistical testing we have determined that there in fact is a statistical difference between the two values. In addition we also determined that there is a statistical difference between males and females we measured."
   ]
  }
 ],
 "metadata": {
  "kernelspec": {
   "display_name": "Python 3",
   "language": "python",
   "name": "python3"
  },
  "language_info": {
   "codemirror_mode": {
    "name": "ipython",
    "version": 3
   },
   "file_extension": ".py",
   "mimetype": "text/x-python",
   "name": "python",
   "nbconvert_exporter": "python",
   "pygments_lexer": "ipython3",
   "version": "3.6.3"
  }
 },
 "nbformat": 4,
 "nbformat_minor": 1
}
